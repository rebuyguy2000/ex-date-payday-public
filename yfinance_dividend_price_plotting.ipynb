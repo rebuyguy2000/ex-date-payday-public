{
  "nbformat": 4,
  "nbformat_minor": 0,
  "metadata": {
    "colab": {
      "name": "yfinance dividend price plotting.ipynb",
      "provenance": [],
      "collapsed_sections": [],
      "authorship_tag": "ABX9TyNY5TQWB8j0SMhWcABPoLDr",
      "include_colab_link": true
    },
    "kernelspec": {
      "name": "python3",
      "display_name": "Python 3"
    }
  },
  "cells": [
    {
      "cell_type": "markdown",
      "metadata": {
        "id": "view-in-github",
        "colab_type": "text"
      },
      "source": [
        "<a href=\"https://colab.research.google.com/github/rebuyguy2000/ex-date-payday-public/blob/main/yfinance_dividend_price_plotting.ipynb\" target=\"_parent\"><img src=\"https://colab.research.google.com/assets/colab-badge.svg\" alt=\"Open In Colab\"/></a>"
      ]
    },
    {
      "cell_type": "code",
      "metadata": {
        "id": "2A6R1rVjvU7w"
      },
      "source": [
        "#dividend scraper code\r\n",
        "#goal is to screen and purchase high paying dividend instruments using a modified dividend capture strategy\r\n",
        "# step 1. capture all dividend ex-dates on Nasdaq Dividend Calendar website\r\n",
        "# step 2. parse the symbols and ex-dates into a csv file\r\n",
        "# step 3. extract historical prices for all symbols that includes 7 days plus/minus the ex-date\r\n",
        "# step 4. use pricing data for statistical analysis on each symbol\r\n",
        "# step 5. is there a correlation between price increase in the days leading up to the ex-date?\r\n",
        "# step 6. how many days leading up to the ex-date are price changes relevant?"
      ],
      "execution_count": 1,
      "outputs": []
    },
    {
      "cell_type": "code",
      "metadata": {
        "id": "MkI2lqF45QKF"
      },
      "source": [
        "# install yfinance data api for python\r\n",
        "# code reference https://pypi.org/project/yfinance/\r\n",
        "\r\n",
        "!pip install yfinance"
      ],
      "execution_count": null,
      "outputs": []
    },
    {
      "cell_type": "code",
      "metadata": {
        "id": "_iXZb5Kk5AKV"
      },
      "source": [
        "# import libraries\r\n",
        "import pandas as pd\r\n",
        "import numpy as np\r\n",
        "import yfinance as yf\r\n",
        "import datetime as dt\r\n",
        "import csv\r\n",
        "import matplotlib.pyplot as plt\r\n",
        "from pandas_datareader import data\r\n"
      ],
      "execution_count": 4,
      "outputs": []
    },
    {
      "cell_type": "code",
      "metadata": {
        "id": "Y6Q-ltVAM9gL"
      },
      "source": [
        "# initialize global variables\r\n",
        "\r\n",
        "ticker = 'WHF'\r\n",
        "s_ema = pd.DataFrame()\r\n",
        "m_ema = pd.DataFrame()\r\n"
      ],
      "execution_count": 23,
      "outputs": []
    },
    {
      "cell_type": "code",
      "metadata": {
        "id": "l-xcYGeeGqgD"
      },
      "source": [
        "# initialize ticker variable\r\n",
        "# retrieves all dividend and stock splits for ticker\r\n",
        "\r\n",
        "symbol = yf.Ticker(ticker)\r\n",
        "symbol.actions"
      ],
      "execution_count": null,
      "outputs": []
    },
    {
      "cell_type": "code",
      "metadata": {
        "id": "smAYJhV1PP1j"
      },
      "source": [
        "# retrieves dividend and payout history for ticker\r\n",
        "\r\n",
        "data.DataReader(ticker, 'yahoo-actions')"
      ],
      "execution_count": null,
      "outputs": []
    },
    {
      "cell_type": "code",
      "metadata": {
        "id": "k0HAbUhr5wxJ"
      },
      "source": [
        "# download ticker info by date range into dataframe\r\n",
        "# estimating a 30 day window for price history\r\n",
        "\r\n",
        "start_d = '2021-02-11'\r\n",
        "end_d = '2021-03-18'\r\n",
        "\r\n",
        "df_yahoo = yf.download(ticker, start=start_d, end=end_d,progress=False,auto_adjust=True,actions=\"inline\")"
      ],
      "execution_count": 26,
      "outputs": []
    },
    {
      "cell_type": "code",
      "metadata": {
        "id": "vmq_Wp6xUB1a"
      },
      "source": [
        "# moving average calculations\r\n",
        "# based on estimated 30 day moving window of price history\r\n",
        "\r\n",
        "ShortEMA = df_yahoo.Close.ewm(span=2, adjust=True).mean()\r\n",
        "MediumEMA = df_yahoo.Close.ewm(span=10, adjust=True).mean()\r\n",
        "\r\n",
        "#MediumEMA\r\n",
        "#ShortEMA"
      ],
      "execution_count": 27,
      "outputs": []
    },
    {
      "cell_type": "code",
      "metadata": {
        "colab": {
          "base_uri": "https://localhost:8080/",
          "height": 309
        },
        "id": "afw2gnDVS4Lz",
        "outputId": "a0e590f8-63b3-4e46-b56f-9fbe89fe5f70"
      },
      "source": [
        "# plot line graph\r\n",
        "# blue is 'Open' prices\r\n",
        "# orange is ShortEMA\r\n",
        "# green is MediumEMA\r\n",
        "\r\n",
        "plt.figure(figsize=(12.2,4.5))\r\n",
        "plt.plot(df_yahoo['Open'])\r\n",
        "plt.plot(ShortEMA)\r\n",
        "plt.plot(MediumEMA)\r\n",
        "plt.title(ticker)\r\n",
        "plt.show()"
      ],
      "execution_count": 28,
      "outputs": [
        {
          "output_type": "display_data",
          "data": {
            "image/png": "[encoded data removed]",
            "text/plain": [
              "<Figure size 878.4x324 with 1 Axes>"
            ]
          },
          "metadata": {
            "tags": [],
            "needs_background": "light"
          }
        }
      ]
    },
    {
      "cell_type": "code",
      "metadata": {
        "id": "32F5M6jFUADY",
        "colab": {
          "base_uri": "https://localhost:8080/"
        },
        "outputId": "e3e16341-6d07-488b-b671-6412226dcf14"
      },
      "source": [
        "# moving average calculations\r\n",
        "# convert to dataframes, combine columns short/medium\r\n",
        "# build algorithm to track upward or downward trend\r\n",
        "\r\n",
        "ShortEMA = df_yahoo.Close.ewm(span=2, adjust=True).mean()\r\n",
        "MediumEMA = df_yahoo.Close.ewm(span=10, adjust=True).mean()\r\n",
        "\r\n",
        "s_ema = ShortEMA\r\n",
        "m_ema = MediumEMA\r\n",
        "\r\n",
        "df_yahoo.info()\r\n",
        "#print(df_yahoo[\"Open\"])"
      ],
      "execution_count": 43,
      "outputs": [
        {
          "output_type": "stream",
          "text": [
            "<class 'pandas.core.frame.DataFrame'>\n",
            "DatetimeIndex: 24 entries, 2021-02-11 to 2021-03-17\n",
            "Data columns (total 7 columns):\n",
            " #   Column        Non-Null Count  Dtype  \n",
            "---  ------        --------------  -----  \n",
            " 0   Open          24 non-null     float64\n",
            " 1   High          24 non-null     float64\n",
            " 2   Low           24 non-null     float64\n",
            " 3   Close         24 non-null     float64\n",
            " 4   Volume        24 non-null     int64  \n",
            " 5   Dividends     24 non-null     int64  \n",
            " 6   Stock Splits  24 non-null     int64  \n",
            "dtypes: float64(4), int64(3)\n",
            "memory usage: 1.5 KB\n"
          ],
          "name": "stdout"
        }
      ]
    }
  ]
}