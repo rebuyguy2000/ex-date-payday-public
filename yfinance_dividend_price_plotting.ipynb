{
  "nbformat": 4,
  "nbformat_minor": 0,
  "metadata": {
    "colab": {
      "name": "yfinance dividend price plotting.ipynb",
      "provenance": [],
      "collapsed_sections": [],
      "authorship_tag": "ABX9TyOuYuxlGhZerBnXdtU4230r",
      "include_colab_link": true
    },
    "kernelspec": {
      "name": "python3",
      "display_name": "Python 3"
    }
  },
  "cells": [
    {
      "cell_type": "markdown",
      "metadata": {
        "id": "view-in-github",
        "colab_type": "text"
      },
      "source": [
        "<a href=\"https://colab.research.google.com/github/rebuyguy2000/ex-date-payday-public/blob/main/yfinance_dividend_price_plotting.ipynb\" target=\"_parent\"><img src=\"https://colab.research.google.com/assets/colab-badge.svg\" alt=\"Open In Colab\"/></a>"
      ]
    },
    {
      "cell_type": "code",
      "metadata": {
        "id": "2A6R1rVjvU7w"
      },
      "source": [
        "#dividend scraper code\r\n",
        "#goal is to screen and purchase high paying dividend instruments using a modified dividend capture strategy\r\n",
        "# step 1. capture all dividend ex-dates on Nasdaq Dividend Calendar website\r\n",
        "# step 2. parse the symbols and ex-dates into a csv file\r\n",
        "# step 3. extract historical prices for all symbols that includes 7 days plus/minus the ex-date\r\n",
        "# step 4. use pricing data for statistical analysis on each symbol\r\n",
        "# step 5. is there a correlation between price increase in the days leading up to the ex-date?\r\n",
        "# step 6. how many days leading up to the ex-date are price changes relevant?"
      ],
      "execution_count": null,
      "outputs": []
    },
    {
      "cell_type": "code",
      "metadata": {
        "id": "MkI2lqF45QKF"
      },
      "source": [
        "# install yfinance data api for python\r\n",
        "# code reference https://pypi.org/project/yfinance/\r\n",
        "!pip install yfinance"
      ],
      "execution_count": null,
      "outputs": []
    },
    {
      "cell_type": "code",
      "metadata": {
        "id": "_iXZb5Kk5AKV"
      },
      "source": [
        "# import libraries\r\n",
        "import pandas as pd\r\n",
        "import numpy as np\r\n",
        "import yfinance as yf\r\n",
        "import datetime as dt\r\n",
        "import csv\r\n",
        "import matplotlib.pyplot as plt\r\n",
        "from pandas_datareader import data\r\n"
      ],
      "execution_count": null,
      "outputs": []
    },
    {
      "cell_type": "code",
      "metadata": {
        "id": "l-xcYGeeGqgD"
      },
      "source": [
        "# initialize ticker variable\r\n",
        "# retrieves all dividend and stock splits for ticker\r\n",
        "\r\n",
        "ticker = 'xflt'\r\n",
        "symbol = yf.Ticker(ticker)\r\n",
        "symbol.actions"
      ],
      "execution_count": null,
      "outputs": []
    },
    {
      "cell_type": "code",
      "metadata": {
        "id": "smAYJhV1PP1j",
        "colab": {
          "base_uri": "https://localhost:8080/",
          "height": 677
        },
        "outputId": "ab2048f0-2f53-4b9d-f676-12556e7da43c"
      },
      "source": [
        "# retrieves dividend and payout history for ticker\r\n",
        "\r\n",
        "ticker = 'pzn'\r\n",
        "data.DataReader(ticker, 'yahoo-actions')"
      ],
      "execution_count": null,
      "outputs": [
        {
          "output_type": "execute_result",
          "data": {
            "text/html": [
              "<div>\n",
              "<style scoped>\n",
              "    .dataframe tbody tr th:only-of-type {\n",
              "        vertical-align: middle;\n",
              "    }\n",
              "\n",
              "    .dataframe tbody tr th {\n",
              "        vertical-align: top;\n",
              "    }\n",
              "\n",
              "    .dataframe thead th {\n",
              "        text-align: right;\n",
              "    }\n",
              "</style>\n",
              "<table border=\"1\" class=\"dataframe\">\n",
              "  <thead>\n",
              "    <tr style=\"text-align: right;\">\n",
              "      <th></th>\n",
              "      <th>action</th>\n",
              "      <th>value</th>\n",
              "    </tr>\n",
              "  </thead>\n",
              "  <tbody>\n",
              "    <tr>\n",
              "      <th>2021-02-11</th>\n",
              "      <td>DIVIDEND</td>\n",
              "      <td>0.25</td>\n",
              "    </tr>\n",
              "    <tr>\n",
              "      <th>2020-10-29</th>\n",
              "      <td>DIVIDEND</td>\n",
              "      <td>0.03</td>\n",
              "    </tr>\n",
              "    <tr>\n",
              "      <th>2020-08-06</th>\n",
              "      <td>DIVIDEND</td>\n",
              "      <td>0.03</td>\n",
              "    </tr>\n",
              "    <tr>\n",
              "      <th>2020-04-30</th>\n",
              "      <td>DIVIDEND</td>\n",
              "      <td>0.03</td>\n",
              "    </tr>\n",
              "    <tr>\n",
              "      <th>2020-02-13</th>\n",
              "      <td>DIVIDEND</td>\n",
              "      <td>0.46</td>\n",
              "    </tr>\n",
              "    <tr>\n",
              "      <th>2019-10-28</th>\n",
              "      <td>DIVIDEND</td>\n",
              "      <td>0.03</td>\n",
              "    </tr>\n",
              "    <tr>\n",
              "      <th>2019-07-29</th>\n",
              "      <td>DIVIDEND</td>\n",
              "      <td>0.03</td>\n",
              "    </tr>\n",
              "    <tr>\n",
              "      <th>2019-04-29</th>\n",
              "      <td>DIVIDEND</td>\n",
              "      <td>0.03</td>\n",
              "    </tr>\n",
              "    <tr>\n",
              "      <th>2019-02-14</th>\n",
              "      <td>DIVIDEND</td>\n",
              "      <td>0.49</td>\n",
              "    </tr>\n",
              "    <tr>\n",
              "      <th>2018-10-29</th>\n",
              "      <td>DIVIDEND</td>\n",
              "      <td>0.03</td>\n",
              "    </tr>\n",
              "    <tr>\n",
              "      <th>2018-08-02</th>\n",
              "      <td>DIVIDEND</td>\n",
              "      <td>0.03</td>\n",
              "    </tr>\n",
              "    <tr>\n",
              "      <th>2018-04-30</th>\n",
              "      <td>DIVIDEND</td>\n",
              "      <td>0.03</td>\n",
              "    </tr>\n",
              "    <tr>\n",
              "      <th>2018-02-15</th>\n",
              "      <td>DIVIDEND</td>\n",
              "      <td>0.42</td>\n",
              "    </tr>\n",
              "    <tr>\n",
              "      <th>2017-10-26</th>\n",
              "      <td>DIVIDEND</td>\n",
              "      <td>0.03</td>\n",
              "    </tr>\n",
              "    <tr>\n",
              "      <th>2017-07-26</th>\n",
              "      <td>DIVIDEND</td>\n",
              "      <td>0.03</td>\n",
              "    </tr>\n",
              "    <tr>\n",
              "      <th>2017-04-26</th>\n",
              "      <td>DIVIDEND</td>\n",
              "      <td>0.03</td>\n",
              "    </tr>\n",
              "    <tr>\n",
              "      <th>2017-02-15</th>\n",
              "      <td>DIVIDEND</td>\n",
              "      <td>0.28</td>\n",
              "    </tr>\n",
              "    <tr>\n",
              "      <th>2016-10-26</th>\n",
              "      <td>DIVIDEND</td>\n",
              "      <td>0.03</td>\n",
              "    </tr>\n",
              "    <tr>\n",
              "      <th>2016-07-27</th>\n",
              "      <td>DIVIDEND</td>\n",
              "      <td>0.03</td>\n",
              "    </tr>\n",
              "    <tr>\n",
              "      <th>2016-04-27</th>\n",
              "      <td>DIVIDEND</td>\n",
              "      <td>0.03</td>\n",
              "    </tr>\n",
              "  </tbody>\n",
              "</table>\n",
              "</div>"
            ],
            "text/plain": [
              "              action  value\n",
              "2021-02-11  DIVIDEND   0.25\n",
              "2020-10-29  DIVIDEND   0.03\n",
              "2020-08-06  DIVIDEND   0.03\n",
              "2020-04-30  DIVIDEND   0.03\n",
              "2020-02-13  DIVIDEND   0.46\n",
              "2019-10-28  DIVIDEND   0.03\n",
              "2019-07-29  DIVIDEND   0.03\n",
              "2019-04-29  DIVIDEND   0.03\n",
              "2019-02-14  DIVIDEND   0.49\n",
              "2018-10-29  DIVIDEND   0.03\n",
              "2018-08-02  DIVIDEND   0.03\n",
              "2018-04-30  DIVIDEND   0.03\n",
              "2018-02-15  DIVIDEND   0.42\n",
              "2017-10-26  DIVIDEND   0.03\n",
              "2017-07-26  DIVIDEND   0.03\n",
              "2017-04-26  DIVIDEND   0.03\n",
              "2017-02-15  DIVIDEND   0.28\n",
              "2016-10-26  DIVIDEND   0.03\n",
              "2016-07-27  DIVIDEND   0.03\n",
              "2016-04-27  DIVIDEND   0.03"
            ]
          },
          "metadata": {
            "tags": []
          },
          "execution_count": 101
        }
      ]
    },
    {
      "cell_type": "code",
      "metadata": {
        "id": "k0HAbUhr5wxJ"
      },
      "source": [
        "# download ticker info by date range into dataframe\r\n",
        "#hist = symbol.history(period=\"1mo\")\r\n",
        "\r\n",
        "df_yahoo = yf.download(ticker, start='2021-01-11', end='2021-02-12',progress=False,auto_adjust=True,actions=\"inline\")"
      ],
      "execution_count": null,
      "outputs": []
    },
    {
      "cell_type": "code",
      "metadata": {
        "id": "vmq_Wp6xUB1a"
      },
      "source": [
        "# moving average calculations\r\n",
        "\r\n",
        "ShortEMA = df_yahoo.Close.ewm(span=2, adjust=True).mean()\r\n",
        "MediumEMA = df_yahoo.Close.ewm(span=10, adjust=True).mean()\r\n",
        "\r\n",
        "#MediumEMA\r\n",
        "#ShortEMA"
      ],
      "execution_count": null,
      "outputs": []
    },
    {
      "cell_type": "code",
      "metadata": {
        "colab": {
          "base_uri": "https://localhost:8080/",
          "height": 293
        },
        "id": "afw2gnDVS4Lz",
        "outputId": "fd28e1c6-b7e1-48ec-8142-2f6ff890e2a2"
      },
      "source": [
        "# plot line graph\r\n",
        "plt.figure(figsize=(12.2,4.5))\r\n",
        "plt.plot(df_yahoo['Open'])\r\n",
        "plt.plot(ShortEMA)\r\n",
        "plt.plot(MediumEMA)\r\n",
        "plt.show()"
      ],
      "execution_count": null,
      "outputs": [
        {
          "output_type": "display_data",
          "data": {
            "image/png": "[encoded data removed]",
            "text/plain": [
              "<Figure size 878.4x324 with 1 Axes>"
            ]
          },
          "metadata": {
            "tags": [],
            "needs_background": "light"
          }
        }
      ]
    },
    {
      "cell_type": "code",
      "metadata": {
        "id": "32F5M6jFUADY",
        "colab": {
          "base_uri": "https://localhost:8080/"
        },
        "outputId": "07738f42-d14c-4406-deea-cc37bc147027"
      },
      "source": [
        "# moving average calculations\r\n",
        "ShortEMA = df_yahoo.Close.ewm(span=2, adjust=True).mean()\r\n",
        "MediumEMA = df_yahoo.Close.ewm(span=10, adjust=True).mean()\r\n",
        "\r\n",
        "print(MediumEMA.keys)\r\n",
        "print(ShortEMA)"
      ],
      "execution_count": null,
      "outputs": [
        {
          "output_type": "stream",
          "text": [
            "<bound method Series.keys of Date\n",
            "2021-02-17    3.030000\n",
            "2021-02-18    3.024500\n",
            "2021-02-19    3.042791\n",
            "2021-02-22    3.048460\n",
            "2021-02-23    3.046032\n",
            "2021-02-24    3.049660\n",
            "2021-02-25    3.037694\n",
            "2021-02-26    3.033668\n",
            "2021-03-01    3.035046\n",
            "2021-03-02    3.033986\n",
            "2021-03-03    3.035215\n",
            "2021-03-04    3.018189\n",
            "2021-03-05    3.000880\n",
            "2021-03-08    3.000710\n",
            "2021-03-09    3.004399\n",
            "2021-03-10    3.016828\n",
            "2021-03-11    3.011783\n",
            "2021-03-12    3.033874\n",
            "2021-03-15    3.068479\n",
            "2021-03-16    3.085426\n",
            "Name: Close, dtype: float64>\n",
            "Date\n",
            "2021-02-17    3.030000\n",
            "2021-02-18    3.022500\n",
            "2021-02-19    3.055385\n",
            "2021-02-22    3.058500\n",
            "2021-02-23    3.046116\n",
            "2021-02-24    3.055385\n",
            "2021-02-25    3.018445\n",
            "2021-02-26    3.019482\n",
            "2021-03-01    3.033161\n",
            "2021-03-02    3.031054\n",
            "2021-03-03    3.037018\n",
            "2021-03-04    2.979006\n",
            "2021-03-05    2.946335\n",
            "2021-03-08    2.982112\n",
            "2021-03-09    3.007371\n",
            "2021-03-10    3.049123\n",
            "2021-03-11    3.009708\n",
            "2021-03-12    3.089903\n",
            "2021-03-15    3.176634\n",
            "2021-03-16    3.165545\n",
            "Name: Close, dtype: float64\n"
          ],
          "name": "stdout"
        }
      ]
    }
  ]
}