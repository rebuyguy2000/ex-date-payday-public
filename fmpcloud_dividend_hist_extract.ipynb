{
  "nbformat": 4,
  "nbformat_minor": 0,
  "metadata": {
    "colab": {
      "name": "fmpcloud dividend hist extract.ipynb",
      "provenance": [],
      "collapsed_sections": [],
      "authorship_tag": "ABX9TyMDIOyz0iQQO6cfFZd80D9F",
      "include_colab_link": true
    },
    "kernelspec": {
      "name": "python3",
      "display_name": "Python 3"
    }
  },
  "cells": [
    {
      "cell_type": "markdown",
      "metadata": {
        "id": "view-in-github",
        "colab_type": "text"
      },
      "source": [
        "<a href=\"https://colab.research.google.com/github/rebuyguy2000/ex-date-payday-public/blob/main/fmpcloud_dividend_hist_extract.ipynb\" target=\"_parent\"><img src=\"https://colab.research.google.com/assets/colab-badge.svg\" alt=\"Open In Colab\"/></a>"
      ]
    },
    {
      "cell_type": "code",
      "metadata": {
        "id": "Q-rfX2bIOh6o"
      },
      "source": [
        "# JSON data to temp json to normalize to csv \r\n",
        "# https://www.kaggle.com/jboysen/quick-tutorial-flatten-nested-json-in-pandas\r\n",
        "# https://www.codespeedy.com/how-to-download-files-from-url-using-python/\r\n",
        "\r\n",
        "import pandas as pd\r\n",
        "import json \r\n",
        "import csv\r\n",
        "import requests\r\n"
      ],
      "execution_count": null,
      "outputs": []
    },
    {
      "cell_type": "code",
      "metadata": {
        "colab": {
          "base_uri": "https://localhost:8080/"
        },
        "id": "bRV8mM5XT8zo",
        "outputId": "4ef28bc1-284f-4c5f-df1f-c67095cda991"
      },
      "source": [
        "# Retrieve json data from fmpcloud\r\n",
        "# use key and symbol to customize url from fmpcloud.io\r\n",
        "# all dividends paid for given symbol\r\n",
        "\r\n",
        "my_key = 'f9dc1e74864fc4dd4b359edc4cd2f0e9'\r\n",
        "symbol = 'fmo'\r\n",
        "url = 'https://fmpcloud.io/api/v3/historical-price-full/stock_dividend/'+ symbol +'?apikey=' + my_key\r\n",
        "\r\n",
        "r = requests.get(url)\r\n",
        "print(url)"
      ],
      "execution_count": null,
      "outputs": [
        {
          "output_type": "stream",
          "text": [
            "https://fmpcloud.io/api/v3/historical-price-full/stock_dividend/fmo?apikey=f9dc1e74864fc4dd4b359edc4cd2f0e9\n"
          ],
          "name": "stdout"
        }
      ]
    },
    {
      "cell_type": "code",
      "metadata": {
        "id": "HpEZ6c8FD4ki"
      },
      "source": [
        "# create temp file and write data from request\r\n",
        "\r\n",
        "with open(symbol + \".json\", 'wb') as f:\r\n",
        "    f.write(r.content)\r\n",
        " "
      ],
      "execution_count": null,
      "outputs": []
    },
    {
      "cell_type": "code",
      "metadata": {
        "id": "Jo25fX3OZT4d"
      },
      "source": [
        "#load temp json object\r\n",
        "\r\n",
        "with open(symbol + '.json') as f:\r\n",
        "    d = json.load(f)"
      ],
      "execution_count": null,
      "outputs": []
    },
    {
      "cell_type": "code",
      "metadata": {
        "colab": {
          "base_uri": "https://localhost:8080/",
          "height": 206
        },
        "id": "rP371MNzR7ei",
        "outputId": "14845258-b717-4327-a449-ca3d7559a5b7"
      },
      "source": [
        "# normalize the temp json into new dataframe\r\n",
        "\r\n",
        "div_hist = pd.json_normalize(d['historical'])\r\n",
        "div_hist.head(5)"
      ],
      "execution_count": null,
      "outputs": [
        {
          "output_type": "execute_result",
          "data": {
            "text/html": [
              "<div>\n",
              "<style scoped>\n",
              "    .dataframe tbody tr th:only-of-type {\n",
              "        vertical-align: middle;\n",
              "    }\n",
              "\n",
              "    .dataframe tbody tr th {\n",
              "        vertical-align: top;\n",
              "    }\n",
              "\n",
              "    .dataframe thead th {\n",
              "        text-align: right;\n",
              "    }\n",
              "</style>\n",
              "<table border=\"1\" class=\"dataframe\">\n",
              "  <thead>\n",
              "    <tr style=\"text-align: right;\">\n",
              "      <th></th>\n",
              "      <th>date</th>\n",
              "      <th>label</th>\n",
              "      <th>adjDividend</th>\n",
              "      <th>dividend</th>\n",
              "      <th>recordDate</th>\n",
              "      <th>paymentDate</th>\n",
              "      <th>declarationDate</th>\n",
              "    </tr>\n",
              "  </thead>\n",
              "  <tbody>\n",
              "    <tr>\n",
              "      <th>0</th>\n",
              "      <td>2021-02-11</td>\n",
              "      <td>February 11, 21</td>\n",
              "      <td>0.245</td>\n",
              "      <td>0.24500</td>\n",
              "      <td>2021-02-12</td>\n",
              "      <td>2021-02-26</td>\n",
              "      <td>2021-02-01</td>\n",
              "    </tr>\n",
              "    <tr>\n",
              "      <th>1</th>\n",
              "      <td>2020-11-12</td>\n",
              "      <td>November 12, 20</td>\n",
              "      <td>0.245</td>\n",
              "      <td>0.24500</td>\n",
              "      <td>2020-11-13</td>\n",
              "      <td>2020-11-30</td>\n",
              "      <td>2020-11-02</td>\n",
              "    </tr>\n",
              "    <tr>\n",
              "      <th>2</th>\n",
              "      <td>2020-08-13</td>\n",
              "      <td>August 13, 20</td>\n",
              "      <td>0.245</td>\n",
              "      <td>0.24500</td>\n",
              "      <td>2020-08-14</td>\n",
              "      <td>2020-08-31</td>\n",
              "      <td>2020-08-03</td>\n",
              "    </tr>\n",
              "    <tr>\n",
              "      <th>3</th>\n",
              "      <td>2020-05-14</td>\n",
              "      <td>May 14, 20</td>\n",
              "      <td>0.165</td>\n",
              "      <td>0.03251</td>\n",
              "      <td>2020-05-15</td>\n",
              "      <td>2020-05-29</td>\n",
              "      <td>2020-05-01</td>\n",
              "    </tr>\n",
              "    <tr>\n",
              "      <th>4</th>\n",
              "      <td>2020-02-13</td>\n",
              "      <td>February 13, 20</td>\n",
              "      <td>1.615</td>\n",
              "      <td>0.32310</td>\n",
              "      <td>2020-02-14</td>\n",
              "      <td>2020-02-28</td>\n",
              "      <td>2020-02-03</td>\n",
              "    </tr>\n",
              "  </tbody>\n",
              "</table>\n",
              "</div>"
            ],
            "text/plain": [
              "         date            label  ...  paymentDate  declarationDate\n",
              "0  2021-02-11  February 11, 21  ...   2021-02-26       2021-02-01\n",
              "1  2020-11-12  November 12, 20  ...   2020-11-30       2020-11-02\n",
              "2  2020-08-13    August 13, 20  ...   2020-08-31       2020-08-03\n",
              "3  2020-05-14       May 14, 20  ...   2020-05-29       2020-05-01\n",
              "4  2020-02-13  February 13, 20  ...   2020-02-28       2020-02-03\n",
              "\n",
              "[5 rows x 7 columns]"
            ]
          },
          "metadata": {
            "tags": []
          },
          "execution_count": 9
        }
      ]
    },
    {
      "cell_type": "code",
      "metadata": {
        "id": "zE9GtEhWrAzJ"
      },
      "source": [
        "# write file to colab drive directory (folder icon on left side bar)\r\n",
        "\r\n",
        "div_hist.to_csv(symbol + '_dividends.csv',index=False)"
      ],
      "execution_count": null,
      "outputs": []
    }
  ]
}