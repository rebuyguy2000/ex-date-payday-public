{
  "nbformat": 4,
  "nbformat_minor": 0,
  "metadata": {
    "colab": {
      "name": "fmpcloud price hist extract.ipynb",
      "provenance": [],
      "collapsed_sections": [],
      "authorship_tag": "ABX9TyNgNaR6f5jBsHdCBUfh/xiB",
      "include_colab_link": true
    },
    "kernelspec": {
      "name": "python3",
      "display_name": "Python 3"
    }
  },
  "cells": [
    {
      "cell_type": "markdown",
      "metadata": {
        "id": "view-in-github",
        "colab_type": "text"
      },
      "source": [
        "<a href=\"https://colab.research.google.com/github/rebuyguy2000/ex-date-payday-public/blob/main/fmpcloud_price_hist_extract.ipynb\" target=\"_parent\"><img src=\"https://colab.research.google.com/assets/colab-badge.svg\" alt=\"Open In Colab\"/></a>"
      ]
    },
    {
      "cell_type": "code",
      "metadata": {
        "id": "Q-rfX2bIOh6o"
      },
      "source": [
        "# JSON data to temp json to normalize to csv \r\n",
        "# https://www.kaggle.com/jboysen/quick-tutorial-flatten-nested-json-in-pandas\r\n",
        "# https://www.codespeedy.com/how-to-download-files-from-url-using-python/\r\n",
        "\r\n",
        "import pandas as pd\r\n",
        "import json \r\n",
        "import csv\r\n",
        "import requests\r\n"
      ],
      "execution_count": null,
      "outputs": []
    },
    {
      "cell_type": "code",
      "metadata": {
        "colab": {
          "base_uri": "https://localhost:8080/"
        },
        "id": "bRV8mM5XT8zo",
        "outputId": "4ceb53bc-49c6-4738-ce27-10dd0d4b3d10"
      },
      "source": [
        "# Retrieve json data from fmpcloud\r\n",
        "# use key and symbol to customize url from fmpcloud.io\r\n",
        "# price history for specified date range and symbol\r\n",
        "\r\n",
        "my_key = 'f9dc1e74864fc4dd4b359edc4cd2f0e9'\r\n",
        "symbol = 'fmo'\r\n",
        "url = 'https://fmpcloud.io/api/v3/historical-price-full/'+ symbol +'?from=2018-03-12&to=2021-03-12&apikey=' + my_key\r\n",
        "\r\n",
        "r = requests.get(url)\r\n",
        "print(url)"
      ],
      "execution_count": null,
      "outputs": [
        {
          "output_type": "stream",
          "text": [
            "https://fmpcloud.io/api/v3/historical-price-full/fmo?from=2018-03-12&to=2021-03-12&apikey=f9dc1e74864fc4dd4b359edc4cd2f0e9\n"
          ],
          "name": "stdout"
        }
      ]
    },
    {
      "cell_type": "code",
      "metadata": {
        "id": "HpEZ6c8FD4ki"
      },
      "source": [
        "# create temp file and write data from request\r\n",
        "\r\n",
        "with open(symbol + \".json\", 'wb') as f:\r\n",
        "    f.write(r.content)\r\n",
        " "
      ],
      "execution_count": null,
      "outputs": []
    },
    {
      "cell_type": "code",
      "metadata": {
        "id": "Jo25fX3OZT4d"
      },
      "source": [
        "#load temp json object\r\n",
        "\r\n",
        "with open(symbol + '.json') as f:\r\n",
        "    d = json.load(f)"
      ],
      "execution_count": null,
      "outputs": []
    },
    {
      "cell_type": "code",
      "metadata": {
        "colab": {
          "base_uri": "https://localhost:8080/",
          "height": 313
        },
        "id": "rP371MNzR7ei",
        "outputId": "164687af-ce8a-47c0-f6ef-bef849da21c5"
      },
      "source": [
        "# normalize the temp json into new dataframe\r\n",
        "\r\n",
        "price_hist = pd.json_normalize(d['historical'])\r\n",
        "price_hist.head(5)"
      ],
      "execution_count": null,
      "outputs": [
        {
          "output_type": "execute_result",
          "data": {
            "text/html": [
              "<div>\n",
              "<style scoped>\n",
              "    .dataframe tbody tr th:only-of-type {\n",
              "        vertical-align: middle;\n",
              "    }\n",
              "\n",
              "    .dataframe tbody tr th {\n",
              "        vertical-align: top;\n",
              "    }\n",
              "\n",
              "    .dataframe thead th {\n",
              "        text-align: right;\n",
              "    }\n",
              "</style>\n",
              "<table border=\"1\" class=\"dataframe\">\n",
              "  <thead>\n",
              "    <tr style=\"text-align: right;\">\n",
              "      <th></th>\n",
              "      <th>date</th>\n",
              "      <th>open</th>\n",
              "      <th>high</th>\n",
              "      <th>low</th>\n",
              "      <th>close</th>\n",
              "      <th>adjClose</th>\n",
              "      <th>volume</th>\n",
              "      <th>unadjustedVolume</th>\n",
              "      <th>change</th>\n",
              "      <th>changePercent</th>\n",
              "      <th>vwap</th>\n",
              "      <th>label</th>\n",
              "      <th>changeOverTime</th>\n",
              "    </tr>\n",
              "  </thead>\n",
              "  <tbody>\n",
              "    <tr>\n",
              "      <th>0</th>\n",
              "      <td>2021-03-12</td>\n",
              "      <td>9.86</td>\n",
              "      <td>10.08</td>\n",
              "      <td>9.80</td>\n",
              "      <td>9.91</td>\n",
              "      <td>9.91</td>\n",
              "      <td>47900.0</td>\n",
              "      <td>47900.0</td>\n",
              "      <td>0.05</td>\n",
              "      <td>0.507</td>\n",
              "      <td>9.93000</td>\n",
              "      <td>March 12, 21</td>\n",
              "      <td>0.00507</td>\n",
              "    </tr>\n",
              "    <tr>\n",
              "      <th>1</th>\n",
              "      <td>2021-03-11</td>\n",
              "      <td>9.70</td>\n",
              "      <td>10.03</td>\n",
              "      <td>9.70</td>\n",
              "      <td>9.74</td>\n",
              "      <td>9.74</td>\n",
              "      <td>92100.0</td>\n",
              "      <td>92100.0</td>\n",
              "      <td>0.04</td>\n",
              "      <td>0.412</td>\n",
              "      <td>9.82333</td>\n",
              "      <td>March 11, 21</td>\n",
              "      <td>0.00412</td>\n",
              "    </tr>\n",
              "    <tr>\n",
              "      <th>2</th>\n",
              "      <td>2021-03-10</td>\n",
              "      <td>9.54</td>\n",
              "      <td>9.66</td>\n",
              "      <td>9.42</td>\n",
              "      <td>9.60</td>\n",
              "      <td>9.60</td>\n",
              "      <td>48300.0</td>\n",
              "      <td>48300.0</td>\n",
              "      <td>0.06</td>\n",
              "      <td>0.629</td>\n",
              "      <td>9.56000</td>\n",
              "      <td>March 10, 21</td>\n",
              "      <td>0.00629</td>\n",
              "    </tr>\n",
              "    <tr>\n",
              "      <th>3</th>\n",
              "      <td>2021-03-09</td>\n",
              "      <td>9.59</td>\n",
              "      <td>9.67</td>\n",
              "      <td>9.25</td>\n",
              "      <td>9.43</td>\n",
              "      <td>9.43</td>\n",
              "      <td>63100.0</td>\n",
              "      <td>63100.0</td>\n",
              "      <td>-0.16</td>\n",
              "      <td>-1.668</td>\n",
              "      <td>9.45000</td>\n",
              "      <td>March 09, 21</td>\n",
              "      <td>-0.01668</td>\n",
              "    </tr>\n",
              "    <tr>\n",
              "      <th>4</th>\n",
              "      <td>2021-03-08</td>\n",
              "      <td>9.38</td>\n",
              "      <td>9.60</td>\n",
              "      <td>9.38</td>\n",
              "      <td>9.49</td>\n",
              "      <td>9.49</td>\n",
              "      <td>44300.0</td>\n",
              "      <td>44300.0</td>\n",
              "      <td>0.11</td>\n",
              "      <td>1.173</td>\n",
              "      <td>9.49000</td>\n",
              "      <td>March 08, 21</td>\n",
              "      <td>0.01173</td>\n",
              "    </tr>\n",
              "  </tbody>\n",
              "</table>\n",
              "</div>"
            ],
            "text/plain": [
              "         date  open   high  ...     vwap         label  changeOverTime\n",
              "0  2021-03-12  9.86  10.08  ...  9.93000  March 12, 21         0.00507\n",
              "1  2021-03-11  9.70  10.03  ...  9.82333  March 11, 21         0.00412\n",
              "2  2021-03-10  9.54   9.66  ...  9.56000  March 10, 21         0.00629\n",
              "3  2021-03-09  9.59   9.67  ...  9.45000  March 09, 21        -0.01668\n",
              "4  2021-03-08  9.38   9.60  ...  9.49000  March 08, 21         0.01173\n",
              "\n",
              "[5 rows x 13 columns]"
            ]
          },
          "metadata": {
            "tags": []
          },
          "execution_count": 12
        }
      ]
    },
    {
      "cell_type": "code",
      "metadata": {
        "id": "zE9GtEhWrAzJ"
      },
      "source": [
        "# write file to colab drive directory (folder icon on left side bar)\r\n",
        "\r\n",
        "price_hist.to_csv(symbol + '_history.csv',index=False)"
      ],
      "execution_count": null,
      "outputs": []
    }
  ]
}